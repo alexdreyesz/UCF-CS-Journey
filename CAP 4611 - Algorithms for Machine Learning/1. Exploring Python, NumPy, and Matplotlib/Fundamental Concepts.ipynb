{
 "cells": [
  {
   "cell_type": "markdown",
   "id": "e24493a4",
   "metadata": {},
   "source": [
    "# **Programming Assignment: Exploring Python, NumPy, and Matplotlib**"
   ]
  },
  {
   "cell_type": "markdown",
   "id": "6c63e68a",
   "metadata": {},
   "source": [
    "**Objective:** This assignment will evaluate your proficiency in Python programming, particularly in using core data structures, NumPy for numerical computations, and Matplotlib for data visualization."
   ]
  },
  {
   "cell_type": "markdown",
   "id": "6fb892df",
   "metadata": {},
   "source": [
    "## **Grading Criteria**"
   ]
  },
  {
   "cell_type": "markdown",
   "id": "79892b77",
   "metadata": {},
   "source": [
    "Part 1: 20 points (10 for Lists and Dictionaries && 10 for String Manipulation)\n",
    "Part 2: 20 Points (10 for Array Creation and Manipulation && 10 for Linear Algebra with Numpy) \n",
    "Part 3: 10 points"
   ]
  },
  {
   "cell_type": "markdown",
   "id": "80396123",
   "metadata": {},
   "source": [
    "## **Submission Instructions**"
   ]
  },
  {
   "cell_type": "markdown",
   "id": "451ca040",
   "metadata": {},
   "source": [
    "Submit your code as a single Jupyter Notebook file (`assignment.ipynb`).\n",
    "Ensure that your notebook is well-commented and that each section is clearly labeled.\n",
    "Include any necessary explanations in markdown cells."
   ]
  },
  {
   "cell_type": "markdown",
   "id": "bf0cd21b",
   "metadata": {},
   "source": [
    "## **Part 1: Python Basics**"
   ]
  },
  {
   "cell_type": "markdown",
   "id": "6232d23a",
   "metadata": {},
   "source": [
    "### 1. **Lists and Dictionaries**"
   ]
  },
  {
   "cell_type": "markdown",
   "id": "a6e27b25",
   "metadata": {},
   "source": [
    "1. Create a list of 10 random integers between 1 and 100 and print it.\n",
    "   You can use randint library\n",
    "   import random\n",
    "   there is a function cals"
   ]
  },
  {
   "cell_type": "code",
   "execution_count": 14,
   "id": "b66255df-65f7-4580-9bfc-ed1d882e1fa5",
   "metadata": {},
   "outputs": [
    {
     "name": "stdout",
     "output_type": "stream",
     "text": [
      "[20, 17, 84, 49, 31, 40, 26, 74, 2, 25]\n"
     ]
    }
   ],
   "source": [
    "import random\n",
    "import numpy\n",
    "import matplotlib\n",
    "import pandas\n",
    "import statistics\n",
    "import math\n",
    "\n",
    "my_list = [0] * 10\n",
    "\n",
    "for x in range(10):\n",
    "    my_list[x] = random.randint(1, 100)\n",
    "\n",
    "print(my_list)"
   ]
  },
  {
   "cell_type": "markdown",
   "id": "7c72c073-977a-4fc1-9b0b-92d5c117ef92",
   "metadata": {},
   "source": [
    "2. Write a function to find the mean, median, and mode of the above created list.\n",
    "   you can use any library numpy, scipy, statistics or panda"
   ]
  },
  {
   "cell_type": "code",
   "execution_count": 15,
   "id": "0a4f0ec3-54ea-409a-88f6-c14a68ab899c",
   "metadata": {},
   "outputs": [
    {
     "name": "stdout",
     "output_type": "stream",
     "text": [
      "Mean:    36.8\n",
      "Median:  28.5\n",
      "Mode:    20\n"
     ]
    }
   ],
   "source": [
    "def find_data(list):\n",
    "    mean = numpy.mean(my_list)\n",
    "    median = numpy.median(my_list)\n",
    "    mode = statistics.mode(my_list)\n",
    "\n",
    "    print(\"Mean:   \", mean)\n",
    "    print(\"Median: \", median)\n",
    "    print(\"Mode:   \", mode)\n",
    "\n",
    "\n",
    "find_data(my_list)"
   ]
  },
  {
   "cell_type": "markdown",
   "id": "013a9d73-3fe5-4116-97b5-304b4a4aa27c",
   "metadata": {},
   "source": [
    "3. Create a dictionary from the created list where keys are the elements and values are their squares.\n",
    "   #Save it in \"squared_dict\" which is being used in following block of code."
   ]
  },
  {
   "cell_type": "code",
   "execution_count": 16,
   "id": "18f0f4ad-0de5-45f8-b15d-486a32c6ba99",
   "metadata": {},
   "outputs": [
    {
     "name": "stdout",
     "output_type": "stream",
     "text": [
      "{65.9: 8.117881497040962, 69.5: 8.336666000266533, 23: 4.795831523312719}\n"
     ]
    }
   ],
   "source": [
    "squared_dict = {mean: math.sqrt(mean), median: math.sqrt(median), mode: math.sqrt(mode)} \n",
    "\n",
    "print(squared_dict)"
   ]
  },
  {
   "cell_type": "markdown",
   "id": "3ecbbb23-b75a-4d35-a37c-3e7c6a403d5d",
   "metadata": {},
   "source": [
    "4. Implement a function to find the key with the maximum value in the dictionary."
   ]
  },
  {
   "cell_type": "code",
   "execution_count": 17,
   "id": "c1cbad0e-9b7d-4371-9e35-6a9f9438c6a8",
   "metadata": {},
   "outputs": [
    {
     "name": "stdout",
     "output_type": "stream",
     "text": [
      "69.5\n"
     ]
    }
   ],
   "source": [
    "def find_max_value_key(squared_dict):\n",
    "    # Find the key with the maximum value in the dictionary\n",
    "    # write you code here\n",
    "\n",
    "    max_key = max(squared_dict, key=squared_dict.get)\n",
    "\n",
    "    return max_key\n",
    "\n",
    "max_key = find_max_value_key(squared_dict)\n",
    "print(max_key)"
   ]
  },
  {
   "cell_type": "markdown",
   "id": "7a3253fe",
   "metadata": {},
   "source": [
    "### 2. **String Manipulation**"
   ]
  },
  {
   "cell_type": "markdown",
   "id": "836e049e",
   "metadata": {},
   "source": [
    "1. Write a function to reverse a string and check if it is a palindrome.\n",
    "   write you name in example_string_2"
   ]
  },
  {
   "cell_type": "code",
   "execution_count": 18,
   "id": "3afdddb1-7a8f-459a-b6ee-d97630b80237",
   "metadata": {},
   "outputs": [
    {
     "name": "stdout",
     "output_type": "stream",
     "text": [
      "Is madam a palindrome? True\n",
      "Is Alex a palindrome? False\n"
     ]
    }
   ],
   "source": [
    "example_string_1 = \"madam\"\n",
    "example_string_2 = \"Alex\" # write your name in the string\n",
    "#write your code here\n",
    "\n",
    "def isPalindrome(string):\n",
    "    stack = []\n",
    "    palindrome = \"\"\n",
    "\n",
    "    string = string.lower()\n",
    "\n",
    "    for x in string:\n",
    "        stack.append(x)\n",
    "\n",
    "    while stack:\n",
    "        palindrome += stack.pop()\n",
    "\n",
    "    if string == palindrome:\n",
    "        return True\n",
    "    \n",
    "    return False\n",
    "\n",
    "isPalindrome(example_string_1)\n",
    "\n",
    "print(\"Is\", example_string_1, \"a palindrome?\", isPalindrome(example_string_1))\n",
    "\n",
    "print(\"Is\", example_string_2, \"a palindrome?\", isPalindrome(example_string_2))\n"
   ]
  },
  {
   "cell_type": "markdown",
   "id": "022c0abc-6071-4cbf-93d1-f28c9f6f348d",
   "metadata": {},
   "source": [
    "2. Create a function that counts the number of vowels in a given string.\n",
    "   check with above given strings, example_string_1 and example_string_2 and print the output"
   ]
  },
  {
   "cell_type": "code",
   "execution_count": 19,
   "id": "3a9a47eb-29b9-4ab8-91bb-91492876cf25",
   "metadata": {},
   "outputs": [
    {
     "name": "stdout",
     "output_type": "stream",
     "text": [
      "madam Has 2 vowels\n",
      "Alex Has 2 vowels\n"
     ]
    }
   ],
   "source": [
    "def vowelAmount(string):\n",
    "    counter = 0\n",
    "\n",
    "    string = string.lower()\n",
    "    \n",
    "    for x in string:\n",
    "       if x == 'a' or x == 'e' or x == 'i' or x == 'o' or x == 'u':\n",
    "           counter += 1\n",
    "\n",
    "    return counter\n",
    "\n",
    "print(example_string_1, \"Has\", vowelAmount(example_string_1), \"vowels\")\n",
    "\n",
    "print(example_string_2, \"Has\", vowelAmount(example_string_2), \"vowels\")\n"
   ]
  },
  {
   "cell_type": "markdown",
   "id": "48eb5e02",
   "metadata": {},
   "source": [
    "## **Part 2: NumPy Operations**"
   ]
  },
  {
   "cell_type": "markdown",
   "id": "2ffcd433",
   "metadata": {},
   "source": [
    "### 1. **Array Creation and Manipulation**"
   ]
  },
  {
   "cell_type": "markdown",
   "id": "b91b49f5",
   "metadata": {},
   "source": [
    "1. Create a 5x5 NumPy array with random integers between 1 and 100 and print it. "
   ]
  },
  {
   "cell_type": "code",
   "execution_count": 20,
   "id": "6e7b13d3-53a4-4ba6-b5b8-814ec2236796",
   "metadata": {},
   "outputs": [
    {
     "name": "stdout",
     "output_type": "stream",
     "text": [
      "[[10 11  7 57 90]\n",
      " [66  3 19 81 64]\n",
      " [15 60  6 16 88]\n",
      " [33  8  7  6 89]\n",
      " [88 68 86 93 90]]\n"
     ]
    }
   ],
   "source": [
    "matrix = numpy.zeros((5, 5), dtype = int)\n",
    "\n",
    "for i in range(5):\n",
    "    for j in range(5):\n",
    "        matrix[i][j] = random.randint(1, 100)\n",
    "\n",
    "print(matrix)"
   ]
  },
  {
   "cell_type": "markdown",
   "id": "f4769933-bad1-4546-b4c3-214647dd4400",
   "metadata": {},
   "source": [
    "2. Replace all even numbers in the array with -1 and than print the output"
   ]
  },
  {
   "cell_type": "code",
   "execution_count": 21,
   "id": "3d82b59f-1762-4eff-896b-77905a5e3340",
   "metadata": {},
   "outputs": [
    {
     "name": "stdout",
     "output_type": "stream",
     "text": [
      "[[-1 11  7 57 -1]\n",
      " [-1  3 19 81 -1]\n",
      " [15 -1 -1 -1 -1]\n",
      " [33 -1  7 -1 89]\n",
      " [-1 -1 -1 93 -1]]\n"
     ]
    }
   ],
   "source": [
    "for i in range(5):\n",
    "    for j in range(5):\n",
    "        if (matrix[i][j] % 2) == 0:\n",
    "            matrix[i][j] = -1\n",
    "    \n",
    "print(matrix)"
   ]
  },
  {
   "cell_type": "markdown",
   "id": "b4a36da5-35ed-4705-a028-79892187c250",
   "metadata": {},
   "source": [
    "3. Calculate the mean and standard deviation of the array elements and than print the output\n",
    "   use numpy library"
   ]
  },
  {
   "cell_type": "code",
   "execution_count": 22,
   "id": "8b8e84c2-5a6d-45a9-b683-29f638ff2cb4",
   "metadata": {},
   "outputs": [
    {
     "name": "stdout",
     "output_type": "stream",
     "text": [
      "Mean:                16.04\n",
      "Standard Deviation:  29.57360985743878\n"
     ]
    }
   ],
   "source": [
    "mean = numpy.mean(matrix)\n",
    "median = numpy.std(matrix)\n",
    "\n",
    "print(\"Mean:               \", mean)\n",
    "print(\"Standard Deviation: \", median)"
   ]
  },
  {
   "cell_type": "markdown",
   "id": "550d6edc-2719-4cba-b710-c14fd9e7ceb2",
   "metadata": {},
   "source": [
    "4. Reshape the array to a 1x25 array and then back to a 5x5 array and than print the output. "
   ]
  },
  {
   "cell_type": "code",
   "execution_count": 23,
   "id": "7e32d3a0-77d0-467c-9995-012d87a6075c",
   "metadata": {},
   "outputs": [
    {
     "name": "stdout",
     "output_type": "stream",
     "text": [
      "Flatten 1d Matrix:\n",
      "[-1 11  7 57 -1 -1  3 19 81 -1 15 -1 -1 -1 -1 33 -1  7 -1 89 -1 -1 -1 93\n",
      " -1] \n",
      "\n",
      "Reshaped 2d Matrix:\n",
      "[[-1 11  7 57 -1]\n",
      " [-1  3 19 81 -1]\n",
      " [15 -1 -1 -1 -1]\n",
      " [33 -1  7 -1 89]\n",
      " [-1 -1 -1 93 -1]]\n"
     ]
    }
   ],
   "source": [
    "matrix = matrix.flatten()\n",
    "print(\"Flatten 1d Matrix:\")\n",
    "print(matrix, \"\\n\")\n",
    "\n",
    "matrix = matrix.reshape(5, 5)\n",
    "print(\"Reshaped 2d Matrix:\")\n",
    "print(matrix)"
   ]
  },
  {
   "cell_type": "markdown",
   "id": "6c3a8c0b",
   "metadata": {},
   "source": [
    "### 2. **Linear Algebra with NumPy**"
   ]
  },
  {
   "cell_type": "markdown",
   "id": "e820ee8f",
   "metadata": {},
   "source": [
    "1. Create two 3x3 matrices."
   ]
  },
  {
   "cell_type": "code",
   "execution_count": 24,
   "id": "acecfeb0-6e53-46aa-8552-b1a916f3e441",
   "metadata": {},
   "outputs": [
    {
     "name": "stdout",
     "output_type": "stream",
     "text": [
      "Matrix1:\n",
      "[[75 10 35]\n",
      " [60 50 13]\n",
      " [51 30 43]] \n",
      "\n",
      "Matrix2:\n",
      "[[46 95 20]\n",
      " [81 11 15]\n",
      " [93 22 21]]\n"
     ]
    }
   ],
   "source": [
    "matrix1 = numpy.zeros((3, 3), dtype = int)\n",
    "\n",
    "for i in range(3):\n",
    "    for j in range(3):\n",
    "        matrix1[i][j] = random.randint(1, 100)\n",
    "\n",
    "\n",
    "matrix2 = numpy.zeros((3, 3), dtype = int)\n",
    "\n",
    "for i in range(3):\n",
    "    for j in range(3):\n",
    "        matrix2[i][j] = random.randint(1, 100)\n",
    "\n",
    "print(\"Matrix1:\")\n",
    "print(matrix1, \"\\n\")\n",
    "\n",
    "print(\"Matrix2:\")\n",
    "print(matrix2)"
   ]
  },
  {
   "cell_type": "markdown",
   "id": "ea1ee2c9-b97a-4db2-9605-a6732b8248ec",
   "metadata": {},
   "source": [
    "2. Perform addition of created matrices and print it."
   ]
  },
  {
   "cell_type": "code",
   "execution_count": 25,
   "id": "6be29847-c091-45f5-9c55-18ea3d5039c0",
   "metadata": {},
   "outputs": [
    {
     "name": "stdout",
     "output_type": "stream",
     "text": [
      "Matrix Addition:\n",
      "[[121 105  55]\n",
      " [141  61  28]\n",
      " [144  52  64]]\n"
     ]
    }
   ],
   "source": [
    "matrix_sum = matrix1 + matrix2\n",
    "\n",
    "print(\"Matrix Addition:\")\n",
    "print(matrix_sum)"
   ]
  },
  {
   "cell_type": "markdown",
   "id": "55e389c6-2908-4f87-bc98-1db4b9c42e4f",
   "metadata": {},
   "source": [
    "3. Perform subtraction of created matrices and print the output"
   ]
  },
  {
   "cell_type": "code",
   "execution_count": 26,
   "id": "be6c710c-9f36-4e8d-80e2-3216c268e3f1",
   "metadata": {},
   "outputs": [
    {
     "name": "stdout",
     "output_type": "stream",
     "text": [
      "Matrix Substraction:\n",
      "[[ 29 -85  15]\n",
      " [-21  39  -2]\n",
      " [-42   8  22]]\n"
     ]
    }
   ],
   "source": [
    "matrix_sub = matrix1 - matrix2\n",
    "\n",
    "print(\"Matrix Substraction:\")\n",
    "print(matrix_sub)"
   ]
  },
  {
   "cell_type": "markdown",
   "id": "7897e5c5-331a-43cc-a788-d819b6c93e28",
   "metadata": {},
   "source": [
    "4. Perform multiplication of created matrices and print the output. "
   ]
  },
  {
   "cell_type": "code",
   "execution_count": 27,
   "id": "66a35d11-a673-40eb-bef9-42155fa99a4c",
   "metadata": {},
   "outputs": [
    {
     "name": "stdout",
     "output_type": "stream",
     "text": [
      "Matrix Multiplication:\n",
      "[[3450  950  700]\n",
      " [4860  550  195]\n",
      " [4743  660  903]]\n"
     ]
    }
   ],
   "source": [
    "matrix_mul = matrix1 * matrix2\n",
    "\n",
    "print(\"Matrix Multiplication:\")\n",
    "print(matrix_mul)"
   ]
  },
  {
   "cell_type": "markdown",
   "id": "e17ef63c-c1dc-4517-b735-033a5466ae43",
   "metadata": {},
   "source": [
    "5. Find the determinant of one of the the matrices."
   ]
  },
  {
   "cell_type": "code",
   "execution_count": 28,
   "id": "83b0c462-99e9-401d-b4f9-457f28b6540d",
   "metadata": {},
   "outputs": [
    {
     "name": "stdout",
     "output_type": "stream",
     "text": [
      "Matrix Determinant:\n",
      "86579.99999999991\n"
     ]
    }
   ],
   "source": [
    "matrix_determinant = numpy.linalg.det(matrix1)\n",
    "\n",
    "print(\"Matrix Determinant:\")\n",
    "print(matrix_determinant)"
   ]
  },
  {
   "cell_type": "markdown",
   "id": "6b6dbaa6-b958-441d-b70d-0804fd3aa3f5",
   "metadata": {},
   "source": [
    "6. Find the inverse of one of the matrices."
   ]
  },
  {
   "cell_type": "code",
   "execution_count": 29,
   "id": "7050cca2-6847-4e9d-974a-570c1a301e69",
   "metadata": {},
   "outputs": [
    {
     "name": "stdout",
     "output_type": "stream",
     "text": [
      "Matrix Inverse:\n",
      "[[ 0.02032802  0.00716101 -0.01871102]\n",
      " [-0.02214137  0.01663202  0.01299376]\n",
      " [-0.00866251 -0.02009702  0.03638254]]\n"
     ]
    }
   ],
   "source": [
    "matrix_inverse = numpy.linalg.inv(matrix1)\n",
    "\n",
    "print(\"Matrix Inverse:\")\n",
    "print(matrix_inverse)"
   ]
  },
  {
   "cell_type": "markdown",
   "id": "e8c1d3e6",
   "metadata": {},
   "source": [
    "## **Part 3: Data Visualization with Matplotlib**"
   ]
  },
  {
   "cell_type": "markdown",
   "id": "9734514d",
   "metadata": {},
   "source": [
    "### 1. **Plotting Basics**"
   ]
  },
  {
   "cell_type": "markdown",
   "id": "aeace7d3-73c0-4103-9b23-6771af906e59",
   "metadata": {},
   "source": [
    "1. Using the data from the sine and cosine waves, create a subplot that shows both plots individually.\n",
    "   Hint_1: you can use np.linspace to generate hundred points from 0 to 2π\n",
    "   Hint_2: use these values of linspace to create sin and cosie values using np.sin() and np.cos()\n",
    "   Hint_3: Use matplotlib library for and make subplots."
   ]
  },
  {
   "cell_type": "code",
   "execution_count": 30,
   "id": "895c04e8-8e5c-4cf2-9761-9ac1f9f76195",
   "metadata": {},
   "outputs": [
    {
     "data": {
      "image/png": "[encoded data removed]",
      "text/plain": [
       "<Figure size 640x480 with 2 Axes>"
      ]
     },
     "metadata": {},
     "output_type": "display_data"
    }
   ],
   "source": [
    "import numpy\n",
    "import matplotlib.pyplot as plt\n",
    "\n",
    "sin_x = numpy.linspace(0, 2 * numpy.pi, 100)\n",
    "sin_y = numpy.sin(sin_x)\n",
    "\n",
    "cos_x = numpy.linspace(0, 2 * numpy.pi, 100)\n",
    "cos_y = numpy.cos(cos_x)\n",
    "\n",
    "fig, ax = plt.subplots(2)\n",
    "ax[0].plot(sin_x, sin_y, color = \"blue\")\n",
    "ax[1].plot(cos_x, cos_y, color = \"red\")\n",
    "\n",
    "ax[0].set_title('Sine Wave')\n",
    "ax[0].set_xlabel(\"x\")\n",
    "ax[0].set_ylabel(\"sin(x)\")\n",
    "ax[0].grid()\n",
    "\n",
    "\n",
    "\n",
    "ax[1].set_title('Cossine Wave')\n",
    "ax[1].set_xlabel(\"x\")\n",
    "ax[1].set_ylabel(\"cos(x)\")\n",
    "ax[1].grid()\n",
    "\n",
    "plt.subplots_adjust(hspace=0.5)"
   ]
  },
  {
   "cell_type": "markdown",
   "id": "8e7004c8",
   "metadata": {},
   "source": [
    "2. Plot a scatter plot of 100 random points with varying sizes and colors. Include gridlines and labels for the axes. Use numpy and Matplotlib library."
   ]
  },
  {
   "cell_type": "code",
   "execution_count": 31,
   "id": "88e769e8-45df-42f7-b624-6024d9e3a21c",
   "metadata": {},
   "outputs": [
    {
     "data": {
      "image/png": "[encoded data removed]",
      "text/plain": [
       "<Figure size 640x480 with 2 Axes>"
      ]
     },
     "metadata": {},
     "output_type": "display_data"
    }
   ],
   "source": [
    "x_points = [0] * 100\n",
    "y_points = [0] * 100\n",
    "sizes = [0] * 100\n",
    "colors = [0] * 100\n",
    "\n",
    "for i in range(100):\n",
    "    x_points[i] = random.randint(1, 100)\n",
    "    y_points[i] = random.randint(1, 100)\n",
    "    sizes[i] = random.randint(10, 100)\n",
    "    colors[i] = random.random()  \n",
    "\n",
    "plt.scatter(x_points, y_points, s=sizes, c=colors, alpha=0.7, cmap='viridis')\n",
    "\n",
    "plt.title(\"100 Random Points\")\n",
    "plt.xlabel(\"x-axis\")\n",
    "plt.ylabel(\"y-axis\")\n",
    "plt.colorbar(label='Color intensity')\n",
    "plt.grid()\n",
    "plt.show()"
   ]
  }
 ],
 "metadata": {
  "kernelspec": {
   "display_name": "Python 3 (ipykernel)",
   "language": "python",
   "name": "python3"
  },
  "language_info": {
   "codemirror_mode": {
    "name": "ipython",
    "version": 3
   },
   "file_extension": ".py",
   "mimetype": "text/x-python",
   "name": "python",
   "nbconvert_exporter": "python",
   "pygments_lexer": "ipython3",
   "version": "3.12.4"
  }
 },
 "nbformat": 4,
 "nbformat_minor": 5
}
